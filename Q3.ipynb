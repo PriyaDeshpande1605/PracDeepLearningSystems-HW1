{
  "nbformat": 4,
  "nbformat_minor": 0,
  "metadata": {
    "colab": {
      "provenance": [],
      "gpuType": "T4"
    },
    "kernelspec": {
      "name": "python3",
      "display_name": "Python 3"
    },
    "language_info": {
      "name": "python"
    },
    "accelerator": "GPU"
  },
  "cells": [
    {
      "cell_type": "code",
      "execution_count": 2,
      "metadata": {
        "colab": {
          "base_uri": "https://localhost:8080/"
        },
        "id": "sPUbbNyu9Poc",
        "outputId": "4105b4e3-0c34-43cd-d668-471d3c95020c"
      },
      "outputs": [
        {
          "output_type": "stream",
          "name": "stdout",
          "text": [
            "Downloading http://fashion-mnist.s3-website.eu-central-1.amazonaws.com/train-images-idx3-ubyte.gz\n",
            "Downloading http://fashion-mnist.s3-website.eu-central-1.amazonaws.com/train-images-idx3-ubyte.gz to ./data/FashionMNIST/raw/train-images-idx3-ubyte.gz\n"
          ]
        },
        {
          "output_type": "stream",
          "name": "stderr",
          "text": [
            "100%|██████████| 26421880/26421880 [00:03<00:00, 8127441.02it/s] \n"
          ]
        },
        {
          "output_type": "stream",
          "name": "stdout",
          "text": [
            "Extracting ./data/FashionMNIST/raw/train-images-idx3-ubyte.gz to ./data/FashionMNIST/raw\n",
            "\n",
            "Downloading http://fashion-mnist.s3-website.eu-central-1.amazonaws.com/train-labels-idx1-ubyte.gz\n",
            "Downloading http://fashion-mnist.s3-website.eu-central-1.amazonaws.com/train-labels-idx1-ubyte.gz to ./data/FashionMNIST/raw/train-labels-idx1-ubyte.gz\n"
          ]
        },
        {
          "output_type": "stream",
          "name": "stderr",
          "text": [
            "100%|██████████| 29515/29515 [00:00<00:00, 139065.84it/s]\n"
          ]
        },
        {
          "output_type": "stream",
          "name": "stdout",
          "text": [
            "Extracting ./data/FashionMNIST/raw/train-labels-idx1-ubyte.gz to ./data/FashionMNIST/raw\n",
            "\n",
            "Downloading http://fashion-mnist.s3-website.eu-central-1.amazonaws.com/t10k-images-idx3-ubyte.gz\n",
            "Downloading http://fashion-mnist.s3-website.eu-central-1.amazonaws.com/t10k-images-idx3-ubyte.gz to ./data/FashionMNIST/raw/t10k-images-idx3-ubyte.gz\n"
          ]
        },
        {
          "output_type": "stream",
          "name": "stderr",
          "text": [
            "100%|██████████| 4422102/4422102 [00:06<00:00, 691864.20it/s] \n"
          ]
        },
        {
          "output_type": "stream",
          "name": "stdout",
          "text": [
            "Extracting ./data/FashionMNIST/raw/t10k-images-idx3-ubyte.gz to ./data/FashionMNIST/raw\n",
            "\n",
            "Downloading http://fashion-mnist.s3-website.eu-central-1.amazonaws.com/t10k-labels-idx1-ubyte.gz\n",
            "Downloading http://fashion-mnist.s3-website.eu-central-1.amazonaws.com/t10k-labels-idx1-ubyte.gz to ./data/FashionMNIST/raw/t10k-labels-idx1-ubyte.gz\n"
          ]
        },
        {
          "output_type": "stream",
          "name": "stderr",
          "text": [
            "100%|██████████| 5148/5148 [00:00<00:00, 6165698.74it/s]"
          ]
        },
        {
          "output_type": "stream",
          "name": "stdout",
          "text": [
            "Extracting ./data/FashionMNIST/raw/t10k-labels-idx1-ubyte.gz to ./data/FashionMNIST/raw\n",
            "\n"
          ]
        },
        {
          "output_type": "stream",
          "name": "stderr",
          "text": [
            "\n"
          ]
        }
      ],
      "source": [
        "import torch\n",
        "import torch.nn as nn\n",
        "import torch.optim as optim\n",
        "import torchvision.transforms as transforms\n",
        "from torchvision.datasets import FashionMNIST\n",
        "from torch.utils.data import DataLoader\n",
        "import matplotlib.pyplot as plt\n",
        "\n",
        "\n",
        "# Define transformations\n",
        "transform = transforms.Compose([transforms.ToTensor()])\n",
        "\n",
        "# Load datasets\n",
        "train_dataset = FashionMNIST(root='./data', train=True, download=True, transform=transform)\n",
        "test_dataset = FashionMNIST(root='./data', train=False, download=True, transform=transform)\n",
        "\n",
        "# Create data loaders\n",
        "train_loader = DataLoader(train_dataset, batch_size=64, shuffle=True)\n",
        "test_loader = DataLoader(test_dataset, batch_size=64, shuffle=False)\n",
        "\n",
        "import torch\n",
        "import torch.nn as nn\n",
        "import torch.nn.functional as F\n",
        "\n",
        "import torch\n",
        "import torch.nn as nn\n",
        "import torch.nn.functional as F\n",
        "\n",
        "class ConvModule(nn.Module):\n",
        "    def __init__(self, in_channels, out_channels, kernel_size, stride=1, padding=0):\n",
        "        super(ConvModule, self).__init__()\n",
        "        self.conv = nn.Conv2d(in_channels, out_channels, kernel_size, stride, padding)\n",
        "        self.bn = nn.BatchNorm2d(out_channels)\n",
        "        self.relu = nn.ReLU()\n",
        "\n",
        "    def forward(self, x):\n",
        "        x = self.conv(x)\n",
        "        x = self.bn(x)\n",
        "        return self.relu(x)\n",
        "\n",
        "class InceptionModule(nn.Module):\n",
        "    def __init__(self, in_channels, ch1, ch3):\n",
        "        super(InceptionModule, self).__init__()\n",
        "        # 1x1 branch\n",
        "        self.branch1x1 = ConvModule(in_channels, ch1, kernel_size=1)\n",
        "\n",
        "        # 3x3 branch\n",
        "        self.branch3x3 = ConvModule(in_channels, ch3, kernel_size=3, padding=1)\n",
        "\n",
        "    def forward(self, x):\n",
        "        out1x1 = self.branch1x1(x)\n",
        "        out3x3 = self.branch3x3(x)\n",
        "        # Concatenate along the channel dimension\n",
        "        return torch.cat([out1x1, out3x3], dim=1)\n",
        "\n",
        "class DownsampleModule(nn.Module):\n",
        "    def __init__(self, in_channels, out_channels):\n",
        "        super(DownsampleModule, self).__init__()\n",
        "        # 3x3 conv branch with stride 2\n",
        "        self.conv = ConvModule(in_channels, out_channels, kernel_size=3, stride=2, padding=1)\n",
        "\n",
        "        # Max pooling branch\n",
        "        self.pool = nn.MaxPool2d(kernel_size=3, stride=2, padding=1)\n",
        "\n",
        "    def forward(self, x):\n",
        "        out_conv = self.conv(x)\n",
        "        out_pool = self.pool(x)\n",
        "        # Concatenate along the channel dimension\n",
        "        return torch.cat([out_conv, out_pool], dim=1)\n",
        "\n",
        "class SmallInception(nn.Module):\n",
        "    def __init__(self, num_classes=10):\n",
        "        super(SmallInception, self).__init__()\n",
        "\n",
        "        # Initial conv layer: Adjusted input channels to 1 for FashionMNIST (grayscale input)\n",
        "        self.conv1 = ConvModule(1, 96, kernel_size=3, stride=1, padding=1)\n",
        "\n",
        "        # First Inception Block\n",
        "        self.inception1 = InceptionModule(96, ch1=32, ch3=32)  # Output: 32+32=64 channels\n",
        "        self.inception2 = InceptionModule(64, ch1=32, ch3=48)  # Output: 32+48=80 channels\n",
        "\n",
        "        # Downsampling\n",
        "        self.downsample1 = DownsampleModule(80, 80)\n",
        "\n",
        "        # Second Inception Block\n",
        "        self.inception3 = InceptionModule(160, ch1=112, ch3=48)  # Output: 112+48=160 channels\n",
        "        self.inception4 = InceptionModule(160, ch1=96, ch3=64)   # Output: 96+64=160 channels\n",
        "        self.inception5 = InceptionModule(160, ch1=80, ch3=80)   # Output: 80+80=160 channels\n",
        "        self.inception6 = InceptionModule(160, ch1=48, ch3=96)   # Output: 48+96=144 channels\n",
        "\n",
        "        # Downsampling\n",
        "        self.downsample2 = DownsampleModule(144, 48)\n",
        "\n",
        "        # Final Inception Block\n",
        "        self.inception7 = InceptionModule(192, ch1=176, ch3=160)  # Output: 176+160=336 channels\n",
        "        self.inception8 = InceptionModule(336, ch1=176, ch3=160)  # Output: 176+160=336 channels\n",
        "\n",
        "        # Global average pooling\n",
        "        self.global_pool = nn.AvgPool2d(kernel_size=7)\n",
        "\n",
        "        # Fully connected layer for classification\n",
        "        self.fc = nn.Linear(336, num_classes)\n",
        "\n",
        "    def forward(self, x):\n",
        "        x = self.conv1(x)\n",
        "        x = self.inception1(x)\n",
        "        x = self.inception2(x)\n",
        "        x = self.downsample1(x)\n",
        "        x = self.inception3(x)\n",
        "        x = self.inception4(x)\n",
        "        x = self.inception5(x)\n",
        "        x = self.inception6(x)\n",
        "        x = self.downsample2(x)\n",
        "        x = self.inception7(x)\n",
        "        x = self.inception8(x)\n",
        "        x = self.global_pool(x)\n",
        "        x = torch.flatten(x, 1)\n",
        "        return self.fc(x)\n",
        "\n",
        "\n",
        "\n",
        "\n"
      ]
    },
    {
      "cell_type": "code",
      "source": [
        "# Assuming you have the SmallInception model and train_loader defined\n",
        "model = SmallInception()\n",
        "criterion = nn.CrossEntropyLoss()\n",
        "\n",
        "# Change optimizer to SGD with momentum (optional)\n",
        "optimizer = optim.SGD(model.parameters(), lr=0.001, momentum=0.9)  # You can adjust the lr and momentum\n",
        "\n",
        "lrs = []\n",
        "losses = []\n",
        "\n",
        "# Testing different learning rates\n",
        "for lr in torch.logspace(-9, 1, 10):\n",
        "    optimizer.param_groups[0]['lr'] = lr\n",
        "    running_loss = 0.0\n",
        "    print(\"Running for lr \", lr)\n",
        "    for epoch in range(5):\n",
        "        print(\"Running epoch \", epoch)\n",
        "        for i, (images, labels) in enumerate(train_loader):\n",
        "\n",
        "            if i > 10:  # Limiting to 10 batches per epoch for speedup\n",
        "                break\n",
        "            optimizer.zero_grad()\n",
        "            outputs = model(images)\n",
        "            loss = criterion(outputs, labels)\n",
        "            loss.backward()\n",
        "            optimizer.step()\n",
        "            running_loss += loss.item()\n",
        "\n",
        "\n",
        "    lrs.append(lr)\n",
        "    losses.append(running_loss / len(train_loader))\n",
        "\n",
        "    plt.plot(lrs, losses)\n",
        "    plt.xscale('log')\n",
        "    plt.xlabel('Learning Rate')\n",
        "    plt.ylabel('Loss')\n",
        "    plt.title('Loss vs Learning Rate')\n",
        "    plt.show()\n",
        "\n",
        "# Plot the results\n",
        "plt.plot(lrs, losses)\n",
        "plt.xscale('log')\n",
        "plt.xlabel('Learning Rate')\n",
        "plt.ylabel('Loss')\n",
        "plt.title('Loss vs Learning Rate')\n",
        "plt.show()\n"
      ],
      "metadata": {
        "id": "SYSFoRnr1Ncv"
      },
      "execution_count": null,
      "outputs": []
    },
    {
      "cell_type": "code",
      "source": [
        "import torch\n",
        "import torch.optim as optim\n",
        "from torch.optim.lr_scheduler import CyclicLR\n",
        "import matplotlib.pyplot as plt\n",
        "\n",
        "# Assuming model is already defined and instantiated\n",
        "model = SmallInception()  # Using the SmallInception model\n",
        "\n",
        "# Criterion (Loss Function) and Optimizer\n",
        "criterion = torch.nn.CrossEntropyLoss()\n",
        "\n",
        "# Initializing the optimizer\n",
        "optimizer = optim.SGD(model.parameters(), lr=0.001, momentum=0.9)\n",
        "\n",
        "# Learning rate range obtained from part 1\n",
        "lrmin = 1e-2  # You should replace this with the lrmin found in part 1\n",
        "lrmax = 1  # You should replace this with the lrmax found in part 1\n",
        "\n",
        "# Cyclical Learning Rate Scheduler\n",
        "scheduler = CyclicLR(optimizer, base_lr=lrmin, max_lr=lrmax, step_size_up=2000, mode='exp_range', gamma=0.99)\n",
        "\n",
        "# Containers to store metrics\n",
        "train_losses, val_losses = [], []\n",
        "train_accuracies, val_accuracies = [], []\n",
        "\n",
        "# Training Loop\n",
        "num_epochs = 30\n",
        "for epoch in range(num_epochs):\n",
        "    model.train()\n",
        "    running_loss, correct = 0.0, 0\n",
        "    total = 0\n",
        "\n",
        "    for i, (images, labels) in enumerate(train_loader):\n",
        "        optimizer.zero_grad()\n",
        "        if i > 10:  # Limiting to 10 batches per epoch for speedup\n",
        "            break\n",
        "\n",
        "        # Forward pass\n",
        "        outputs = model(images)\n",
        "        loss = criterion(outputs, labels)\n",
        "        loss.backward()\n",
        "\n",
        "        # Update weights\n",
        "        optimizer.step()\n",
        "        scheduler.step()  # Update the learning rate per batch\n",
        "\n",
        "        # Track training loss and accuracy\n",
        "        running_loss += loss.item()\n",
        "        _, predicted = outputs.max(1)\n",
        "        correct += predicted.eq(labels).sum().item()\n",
        "        total += labels.size(0)\n",
        "\n",
        "    train_loss = running_loss / len(train_loader)\n",
        "    train_acc = correct / total\n",
        "    train_losses.append(train_loss)\n",
        "    train_accuracies.append(train_acc)\n",
        "\n",
        "    # Validation Phase\n",
        "    model.eval()\n",
        "    val_loss, correct = 0.0, 0\n",
        "    total = 0\n",
        "\n",
        "    with torch.no_grad():\n",
        "        for images, labels in test_loader:\n",
        "            outputs = model(images)\n",
        "            loss = criterion(outputs, labels)\n",
        "            val_loss += loss.item()\n",
        "            _, predicted = outputs.max(1)\n",
        "            correct += predicted.eq(labels).sum().item()\n",
        "            total += labels.size(0)\n",
        "\n",
        "    val_loss = val_loss / len(test_loader)\n",
        "    val_acc = correct / total\n",
        "    val_losses.append(val_loss)\n",
        "    val_accuracies.append(val_acc)\n",
        "\n",
        "    # Print metrics\n",
        "    print(f'Epoch {epoch+1}/{num_epochs}, Train Loss: {train_loss:.4f}, Train Accuracy: {train_acc:.4f}, '\n",
        "          f'Val Loss: {val_loss:.4f}, Val Accuracy: {val_acc:.4f}')\n",
        "\n",
        "    # Decay the lrmin and lrmax values exponentially after each epoch\n",
        "    lrmin *= 0.99  # Adjust decay factor as needed\n",
        "    lrmax *= 0.99\n",
        "    scheduler.base_lrs = [lrmin]  # Update the scheduler's learning rate range\n",
        "\n"
      ],
      "metadata": {
        "colab": {
          "base_uri": "https://localhost:8080/"
        },
        "id": "m3nyviar9efR",
        "outputId": "d5934f49-f56b-418e-a5f4-44b1092c1217"
      },
      "execution_count": 3,
      "outputs": [
        {
          "output_type": "stream",
          "name": "stdout",
          "text": [
            "Epoch 1/30, Train Loss: 0.0242, Train Accuracy: 0.2898, Val Loss: 2.3322, Val Accuracy: 0.1000\n",
            "Epoch 2/30, Train Loss: 0.0149, Train Accuracy: 0.6122, Val Loss: 2.3466, Val Accuracy: 0.1351\n",
            "Epoch 3/30, Train Loss: 0.0102, Train Accuracy: 0.7045, Val Loss: 2.5851, Val Accuracy: 0.1842\n",
            "Epoch 4/30, Train Loss: 0.0087, Train Accuracy: 0.7230, Val Loss: 0.9970, Val Accuracy: 0.6271\n",
            "Epoch 5/30, Train Loss: 0.0086, Train Accuracy: 0.7244, Val Loss: 1.7582, Val Accuracy: 0.4998\n",
            "Epoch 6/30, Train Loss: 0.0076, Train Accuracy: 0.7585, Val Loss: 1.0576, Val Accuracy: 0.6692\n",
            "Epoch 7/30, Train Loss: 0.0071, Train Accuracy: 0.7713, Val Loss: 0.8580, Val Accuracy: 0.7211\n",
            "Epoch 8/30, Train Loss: 0.0075, Train Accuracy: 0.7656, Val Loss: 0.7492, Val Accuracy: 0.7460\n",
            "Epoch 9/30, Train Loss: 0.0068, Train Accuracy: 0.7884, Val Loss: 1.7143, Val Accuracy: 0.5281\n",
            "Epoch 10/30, Train Loss: 0.0070, Train Accuracy: 0.7741, Val Loss: 0.6765, Val Accuracy: 0.7542\n",
            "Epoch 11/30, Train Loss: 0.0059, Train Accuracy: 0.8168, Val Loss: 0.6727, Val Accuracy: 0.7639\n",
            "Epoch 12/30, Train Loss: 0.0055, Train Accuracy: 0.8111, Val Loss: 0.6460, Val Accuracy: 0.7772\n",
            "Epoch 13/30, Train Loss: 0.0062, Train Accuracy: 0.8026, Val Loss: 0.6990, Val Accuracy: 0.7400\n",
            "Epoch 14/30, Train Loss: 0.0052, Train Accuracy: 0.8366, Val Loss: 0.5111, Val Accuracy: 0.8269\n",
            "Epoch 15/30, Train Loss: 0.0060, Train Accuracy: 0.8153, Val Loss: 0.5292, Val Accuracy: 0.8215\n",
            "Epoch 16/30, Train Loss: 0.0046, Train Accuracy: 0.8651, Val Loss: 0.5198, Val Accuracy: 0.8135\n",
            "Epoch 17/30, Train Loss: 0.0048, Train Accuracy: 0.8452, Val Loss: 0.4815, Val Accuracy: 0.8276\n",
            "Epoch 18/30, Train Loss: 0.0049, Train Accuracy: 0.8466, Val Loss: 0.4471, Val Accuracy: 0.8436\n",
            "Epoch 19/30, Train Loss: 0.0048, Train Accuracy: 0.8509, Val Loss: 0.5522, Val Accuracy: 0.8013\n",
            "Epoch 20/30, Train Loss: 0.0049, Train Accuracy: 0.8466, Val Loss: 0.4740, Val Accuracy: 0.8311\n",
            "Epoch 21/30, Train Loss: 0.0042, Train Accuracy: 0.8537, Val Loss: 0.4195, Val Accuracy: 0.8481\n",
            "Epoch 22/30, Train Loss: 0.0048, Train Accuracy: 0.8622, Val Loss: 0.5745, Val Accuracy: 0.8004\n",
            "Epoch 23/30, Train Loss: 0.0042, Train Accuracy: 0.8608, Val Loss: 0.5344, Val Accuracy: 0.8062\n",
            "Epoch 24/30, Train Loss: 0.0044, Train Accuracy: 0.8523, Val Loss: 0.5375, Val Accuracy: 0.8074\n",
            "Epoch 25/30, Train Loss: 0.0037, Train Accuracy: 0.8935, Val Loss: 0.4300, Val Accuracy: 0.8528\n",
            "Epoch 26/30, Train Loss: 0.0045, Train Accuracy: 0.8651, Val Loss: 0.4075, Val Accuracy: 0.8569\n",
            "Epoch 27/30, Train Loss: 0.0040, Train Accuracy: 0.8807, Val Loss: 0.4381, Val Accuracy: 0.8485\n",
            "Epoch 28/30, Train Loss: 0.0044, Train Accuracy: 0.8636, Val Loss: 0.4021, Val Accuracy: 0.8470\n",
            "Epoch 29/30, Train Loss: 0.0046, Train Accuracy: 0.8750, Val Loss: 0.3577, Val Accuracy: 0.8750\n",
            "Epoch 30/30, Train Loss: 0.0045, Train Accuracy: 0.8551, Val Loss: 0.3834, Val Accuracy: 0.8634\n"
          ]
        }
      ]
    },
    {
      "cell_type": "code",
      "source": [
        "import matplotlib.pyplot as plt\n",
        "\n",
        "# Plot Training and Validation Loss\n",
        "plt.figure(figsize=(12, 6))\n",
        "\n",
        "# Subplot for Loss\n",
        "plt.subplot(2, 1, 1)\n",
        "plt.plot(range(1, num_epochs + 1), train_losses, label='Training Loss', color='blue')\n",
        "plt.plot(range(1, num_epochs + 1), val_losses, label='Validation Loss', color='orange')\n",
        "plt.title('Training and Validation Loss')\n",
        "plt.xlabel('Epochs')\n",
        "plt.ylabel('Loss')\n",
        "plt.legend()\n",
        "plt.grid()\n",
        "\n",
        "# Subplot for Accuracy\n",
        "plt.subplot(2, 1, 2)\n",
        "plt.plot(range(1, num_epochs + 1), train_accuracies, label='Training Accuracy', color='green')\n",
        "plt.plot(range(1, num_epochs + 1), val_accuracies, label='Validation Accuracy', color='red')\n",
        "plt.title('Training and Validation Accuracy')\n",
        "plt.xlabel('Epochs')\n",
        "plt.ylabel('Accuracy')\n",
        "plt.legend()\n",
        "plt.grid()\n",
        "\n",
        "plt.tight_layout()\n",
        "plt.show()\n"
      ],
      "metadata": {
        "colab": {
          "base_uri": "https://localhost:8080/",
          "height": 607
        },
        "id": "7BcVaLLI07sb",
        "outputId": "7f4980ad-a3d2-42ff-d08a-db93ba9d71d2"
      },
      "execution_count": 4,
      "outputs": [
        {
          "output_type": "display_data",
          "data": {
            "text/plain": [
              "<Figure size 1200x600 with 2 Axes>"
            ],
            "image/png": "[encoded data removed]"
          },
          "metadata": {}
        }
      ]
    },
    {
      "cell_type": "code",
      "source": [
        "# Define transformations\n",
        "transform = transforms.Compose([transforms.ToTensor()])\n",
        "\n",
        "# Load datasets\n",
        "train_dataset = FashionMNIST(root='./data', train=True, download=True, transform=transform)\n",
        "test_dataset = FashionMNIST(root='./data', train=False, download=True, transform=transform)\n",
        "\n",
        "# Learning Rate (Set this to lrmax found in part 1)\n",
        "lrmax = 1  # Replace with your lrmax value\n",
        "\n",
        "# Batch sizes to test\n",
        "batch_sizes = [32, 64, 128, 256, 512, 1024, 2048, 4096, 8192]\n",
        "\n",
        "# Store losses for each batch size\n",
        "batch_loss = {}\n",
        "\n",
        "# Training Loop for each batch size\n",
        "for batch_size in batch_sizes:\n",
        "    print(f\"Training with batch size: {batch_size}\")\n",
        "\n",
        "    # Create DataLoader with the current batch size\n",
        "    train_loader = DataLoader(train_dataset, batch_size=batch_size, shuffle=True)\n",
        "\n",
        "    # Define model, criterion and optimizer\n",
        "    model = SmallInception()  # Using the SmallInception model\n",
        "    criterion = nn.CrossEntropyLoss()\n",
        "    optimizer = optim.SGD(model.parameters(), lr=lrmax, momentum=0.9)\n",
        "\n",
        "    # Store training loss\n",
        "    running_loss = []\n",
        "    num_epochs = 5  # You can adjust this based on your requirement\n",
        "\n",
        "    for epoch in range(num_epochs):\n",
        "        model.train()\n",
        "        epoch_loss = 0.0\n",
        "\n",
        "        for i, (images, labels) in enumerate(train_loader):\n",
        "            optimizer.zero_grad()\n",
        "            outputs = model(images)\n",
        "            loss = criterion(outputs, labels)\n",
        "            loss.backward()\n",
        "            optimizer.step()\n",
        "\n",
        "            epoch_loss += loss.item()\n",
        "\n",
        "        # Average loss for the epoch\n",
        "        running_loss.append(epoch_loss / len(train_loader))\n",
        "        print(f'Epoch {epoch+1}, Loss: {running_loss[-1]:.4f}')\n",
        "\n",
        "    # Store the final loss for the current batch size\n",
        "    batch_loss[batch_size] = running_loss[-1]\n",
        "\n",
        "# Plotting the training loss for each batch size\n",
        "plt.figure(figsize=(10, 6))\n",
        "plt.plot(batch_sizes, list(batch_loss.values()), marker='o')\n",
        "plt.xscale('log')\n",
        "plt.title('Training Loss vs Batch Size')\n",
        "plt.xlabel('Batch Size (log scale)')\n",
        "plt.ylabel('Training Loss')\n",
        "plt.xticks(batch_sizes, batch_sizes)  # Show actual batch sizes on x-axis\n",
        "plt.grid()\n",
        "plt.show()"
      ],
      "metadata": {
        "colab": {
          "base_uri": "https://localhost:8080/"
        },
        "id": "oQ84C81dBg4B",
        "outputId": "9cca9f0c-fd2f-47d4-d348-b367ff793794"
      },
      "execution_count": null,
      "outputs": [
        {
          "output_type": "stream",
          "name": "stdout",
          "text": [
            "Training with batch size: 32\n"
          ]
        }
      ]
    },
    {
      "cell_type": "code",
      "source": [],
      "metadata": {
        "id": "GczdBcDjCYcf"
      },
      "execution_count": null,
      "outputs": []
    }
  ]
}